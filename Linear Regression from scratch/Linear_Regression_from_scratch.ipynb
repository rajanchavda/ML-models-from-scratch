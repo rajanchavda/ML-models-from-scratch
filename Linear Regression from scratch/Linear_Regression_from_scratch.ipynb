{
  "nbformat": 4,
  "nbformat_minor": 0,
  "metadata": {
    "colab": {
      "name": "Linear Regression from scratch.ipynb",
      "version": "0.3.2",
      "provenance": [],
      "collapsed_sections": [
        "1Nfm51ZzdlgT",
        "lK17Qy-SdpWT",
        "r65py-T7dvyS"
      ]
    },
    "kernelspec": {
      "name": "python3",
      "display_name": "Python 3"
    }
  },
  "cells": [
    {
      "cell_type": "markdown",
      "metadata": {
        "id": "KCjpZiVIdV9F",
        "colab_type": "text"
      },
      "source": [
        "# Linear Regression From Scratch"
      ]
    },
    {
      "cell_type": "markdown",
      "metadata": {
        "id": "1Nfm51ZzdlgT",
        "colab_type": "text"
      },
      "source": [
        "## Import data"
      ]
    },
    {
      "cell_type": "code",
      "metadata": {
        "id": "xJuRniUxU2RX",
        "colab_type": "code",
        "colab": {
          "base_uri": "https://localhost:8080/",
          "height": 373
        },
        "outputId": "b6218bc8-8a10-49a1-d5df-cbf19a7b3614"
      },
      "source": [
        "# Making the imports\n",
        "import numpy as np\n",
        "import pandas as pd\n",
        "import matplotlib.pyplot as plt\n",
        "plt.rcParams['figure.figsize'] = (4.0, 4.0)\n",
        "\n",
        "# Preprocessing Input data\n",
        "data = pd.read_csv('data.csv', header=None)\n",
        "print(data.head(5))\n",
        "\n",
        "X = data.iloc[:, 0]\n",
        "Y = data.iloc[:, 1]\n",
        "plt.scatter(X, Y)\n",
        "plt.show()"
      ],
      "execution_count": 33,
      "outputs": [
        {
          "output_type": "stream",
          "text": [
            "           0          1\n",
            "0  32.502345  31.707006\n",
            "1  53.426804  68.777596\n",
            "2  61.530358  62.562382\n",
            "3  47.475640  71.546632\n",
            "4  59.813208  87.230925\n"
          ],
          "name": "stdout"
        },
        {
          "output_type": "display_data",
          "data": {
            "image/png": "[encoded data removed]",
            "text/plain": [
              "<Figure size 288x288 with 1 Axes>"
            ]
          },
          "metadata": {
            "tags": []
          }
        }
      ]
    },
    {
      "cell_type": "markdown",
      "metadata": {
        "id": "lK17Qy-SdpWT",
        "colab_type": "text"
      },
      "source": [
        "## Build  and Train model"
      ]
    },
    {
      "cell_type": "code",
      "metadata": {
        "id": "gJH9n7FFU2O2",
        "colab_type": "code",
        "colab": {
          "base_uri": "https://localhost:8080/",
          "height": 35
        },
        "outputId": "582108fc-bf83-4dec-c7a0-deafa2491e32"
      },
      "source": [
        "\n",
        "# Building the model\n",
        "m = 0\n",
        "c = 0\n",
        "\n",
        "L = 0.0001  # The learning Rate\n",
        "epochs = 1000  # The number of iterations to perform gradient descent\n",
        "\n",
        "n = float(len(X)) # Number of elements in X\n",
        "\n",
        "# Performing Gradient Descent \n",
        "for i in range(epochs): \n",
        "    Y_pred = m*X + c  # The current predicted value of Y\n",
        "    D_m = (-2/n) * sum(X * (Y - Y_pred))  # Derivative with respect to m\n",
        "    D_c = (-2/n) * sum(Y - Y_pred)  # Derivative with respect to c\n",
        "    m = m - L * D_m  # Update m\n",
        "    c = c - L * D_c  # Update c\n",
        "    \n",
        "print (m, c)"
      ],
      "execution_count": 34,
      "outputs": [
        {
          "output_type": "stream",
          "text": [
            "1.4777440851894448 0.08893651993741342\n"
          ],
          "name": "stdout"
        }
      ]
    },
    {
      "cell_type": "markdown",
      "metadata": {
        "id": "r65py-T7dvyS",
        "colab_type": "text"
      },
      "source": [
        "## Prediction"
      ]
    },
    {
      "cell_type": "code",
      "metadata": {
        "id": "iDKV9crKU2Fc",
        "colab_type": "code",
        "colab": {
          "base_uri": "https://localhost:8080/",
          "height": 269
        },
        "outputId": "0dee9f65-24fb-414d-c1e3-3372e2092f2b"
      },
      "source": [
        "# Making predictions\n",
        "Y_pred = m*X + c\n",
        "\n",
        "plt.scatter(X, Y) \n",
        "plt.plot([min(X), max(X)], [min(Y_pred), max(Y_pred)], color='red')  # regression line\n",
        "plt.show()"
      ],
      "execution_count": 35,
      "outputs": [
        {
          "output_type": "display_data",
          "data": {
            "image/png": "[encoded data removed]",
            "text/plain": [
              "<Figure size 288x288 with 1 Axes>"
            ]
          },
          "metadata": {
            "tags": []
          }
        }
      ]
    }
  ]
}